{
 "cells": [
  {
   "cell_type": "code",
   "execution_count": 1,
   "metadata": {},
   "outputs": [],
   "source": [
    "import numpy as np\n",
    "import math\n",
    "\n",
    "\n",
    "def handled_input(output:str):\n",
    "    s = input(output)\n",
    "    while True:\n",
    "        try:\n",
    "            s = float(s)\n",
    "            if s < 0:\n",
    "                s = input(output)\n",
    "                continue\n",
    "            break\n",
    "        except ValueError:\n",
    "            s = input('Wring input.' + output)\n",
    "    return s"
   ]
  },
  {
   "cell_type": "code",
   "execution_count": 2,
   "metadata": {},
   "outputs": [
    {
     "name": "stdin",
     "output_type": "stream",
     "text": [
      "Current Stock Price: 160\n",
      "Up Factor : 1.5\n",
      "Down Factor : 0.5\n",
      "Risk-free Rate per Period (%): 18.232\n",
      "Strike Price: 150\n",
      "Period: 3\n"
     ]
    }
   ],
   "source": [
    "# input\n",
    "\n",
    "S = handled_input('Current Stock Price:')\n",
    "u = handled_input('Up Factor :')\n",
    "d = handled_input('Down Factor :')\n",
    "while u < d:\n",
    "    u = handled_input('Up Factor :')\n",
    "    d = handled_input('Down Factor :')\n",
    "r =  handled_input('Risk-free Rate per Period (%):')/100\n",
    "R = round(math.exp(r), 2)\n",
    "p = (R - d)/(u - d)\n",
    "X = handled_input('Strike Price:')\n",
    "\n",
    "n = input('Period:')\n",
    "\n",
    "while True:\n",
    "    try:\n",
    "        n = int(n)\n",
    "        if n < 0:\n",
    "            n = input('Wrong input,it should be a positive integer. Period:')\n",
    "            continue\n",
    "        break\n",
    "    except ValueError:\n",
    "        n = input('Wrong input, it must be an integer. Period:')"
   ]
  },
  {
   "cell_type": "code",
   "execution_count": 3,
   "metadata": {},
   "outputs": [
    {
     "name": "stdout",
     "output_type": "stream",
     "text": [
      "Call value is 85.069.\n",
      "Put value is 11.875.\n"
     ]
    }
   ],
   "source": [
    "# Call\n",
    "C_tree = np.zeros((n+1, n+1))\n",
    "P_tree = np.zeros((n+1, n+1))\n",
    "\n",
    "\n",
    "for j in range(n+1):\n",
    "    C_tree[n, j] = round(max(S * (u**(n-j)) * (d**j) - X, 0), 3)\n",
    "    P_tree[n, j] = round(max(X - S * (u**(n-j)) * (d**j), 0), 3)\n",
    "\n",
    "\n",
    "for i in reversed(range(n)):\n",
    "    for j in range(i+1):\n",
    "        C_tree[i, j] = round((p * C_tree[i+1, j] + (1-p) * C_tree[i+1, j+1]) / R, 3)\n",
    "        P_tree[i, j] = round((p * P_tree[i+1, j] + (1-p) * P_tree[i+1, j+1]) / R, 3)\n",
    "\n",
    "print('Call value is ' + str(C_tree[0, 0]) + '.')\n",
    "print('Put value is ' + str(P_tree[0, 0]) + '.')"
   ]
  }
 ],
 "metadata": {
  "kernelspec": {
   "display_name": "Python 3",
   "language": "python",
   "name": "python3"
  },
  "language_info": {
   "codemirror_mode": {
    "name": "ipython",
    "version": 3
   },
   "file_extension": ".py",
   "mimetype": "text/x-python",
   "name": "python",
   "nbconvert_exporter": "python",
   "pygments_lexer": "ipython3",
   "version": "3.7.2"
  }
 },
 "nbformat": 4,
 "nbformat_minor": 4
}
