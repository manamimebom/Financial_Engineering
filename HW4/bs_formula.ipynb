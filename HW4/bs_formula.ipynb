{
 "cells": [
  {
   "cell_type": "code",
   "execution_count": 9,
   "metadata": {},
   "outputs": [],
   "source": [
    "import numpy as np\n",
    "from scipy.stats import norm\n",
    "import math\n",
    "import matplotlib.pyplot as plt\n",
    "\n",
    "def handled_input(output:str, isInt = False):\n",
    "    s = input(output)\n",
    "    while True:\n",
    "        try:\n",
    "            if isInt:\n",
    "                s = int(s)\n",
    "            else:\n",
    "                s = float(s)\n",
    "            if s < 0:\n",
    "                s = input(output)\n",
    "                continue\n",
    "            break\n",
    "        except ValueError:\n",
    "            s = input('Wring input.' + output)\n",
    "    return s\n",
    "def np_cal(mu):\n",
    "    return 1/2 * (1 + math.erf(mu / (2**0.5)))"
   ]
  },
  {
   "cell_type": "code",
   "execution_count": 10,
   "metadata": {},
   "outputs": [
    {
     "name": "stdin",
     "output_type": "stream",
     "text": [
      "Current stock price: 75\n",
      "Volatility: 0.35\n",
      "Times of dividends paid per year : 2\n",
      "Dividend per payment: 1\n",
      "Rate of return (%): 6\n",
      "Strike Price: 65\n",
      "Maturing time (in month): 6\n"
     ]
    }
   ],
   "source": [
    "# Input\n",
    "\n",
    "S = handled_input('Current stock price:')\n",
    "v = handled_input('Volatility:')\n",
    "n = handled_input('Times of dividends paid per year :', isInt = True)\n",
    "while n > 4:\n",
    "    n = handled_input('Times of dividends paid per year (4 times at most):', isInt = True)\n",
    "d = handled_input('Dividend per payment:')\n",
    "r =  handled_input('Rate of return (%):')/100\n",
    "X = handled_input('Strike Price:')\n",
    "m = handled_input('Maturing time (in month):', isInt = True) / 12"
   ]
  },
  {
   "cell_type": "code",
   "execution_count": 19,
   "metadata": {},
   "outputs": [],
   "source": [
    "# Calculation\n",
    "ds = [d] * n\n",
    "ds = [d * np.exp(-r*(i*3+1)/12) for i in range(n)]\n",
    "D = np.sum(ds)\n",
    "\n",
    "sh = S - D\n",
    "d1 = (np.log(sh/X) + (r + 1/2 * v**2) * m) / (v * m**(1/2))\n",
    "d2 = d1 - (v * m**(1/2))\n",
    "\n",
    "n1 = 1/2 * (1 + math.erf(-1 * d1 / (2**0.5)))\n",
    "n2 = 1/2 * (1 + math.erf(-1 * d2 / (2**0.5)))\n",
    "\n",
    "put = X * np.exp(-r * m) * np_cal(-d2) - sh * np_cal(-d1)\n",
    "call = sh * np_cal(d1) - X * np.exp(-r * m) * np_cal(d2)"
   ]
  },
  {
   "cell_type": "code",
   "execution_count": 23,
   "metadata": {},
   "outputs": [
    {
     "name": "stdout",
     "output_type": "stream",
     "text": [
      "Put value is 2.86.\n",
      "Call value is 12.806.\n"
     ]
    }
   ],
   "source": [
    "# Output\n",
    "\n",
    "print('Put value is ' + str(round(put, 3)) + '.')\n",
    "print('Call value is ' + str(round(call, 3)) + '.')"
   ]
  }
 ],
 "metadata": {
  "kernelspec": {
   "display_name": "Python 3",
   "language": "python",
   "name": "python3"
  },
  "language_info": {
   "codemirror_mode": {
    "name": "ipython",
    "version": 3
   },
   "file_extension": ".py",
   "mimetype": "text/x-python",
   "name": "python",
   "nbconvert_exporter": "python",
   "pygments_lexer": "ipython3",
   "version": "3.7.2"
  }
 },
 "nbformat": 4,
 "nbformat_minor": 4
}
