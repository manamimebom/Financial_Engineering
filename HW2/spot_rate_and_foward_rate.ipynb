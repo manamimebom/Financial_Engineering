{
 "cells": [
  {
   "cell_type": "code",
   "execution_count": 1,
   "metadata": {},
   "outputs": [],
   "source": [
    "%load_ext pycodestyle_magic\n",
    "\n",
    "%pycodestyle_on or %flake8_on"
   ]
  },
  {
   "cell_type": "code",
   "execution_count": 2,
   "metadata": {},
   "outputs": [],
   "source": [
    "import numpy as np\n",
    "import math\n",
    "\n",
    "\n",
    "def PV_cal(F, C, n, m, r):\n",
    "    return (C*(1-((1+r/m)**(-n)))/(r/m)+F/((1+r/m)**(n)))"
   ]
  },
  {
   "cell_type": "code",
   "execution_count": 19,
   "metadata": {},
   "outputs": [
    {
     "name": "stdin",
     "output_type": "stream",
     "text": [
      "Current Bond Price: 950\n",
      "Bond Par Value: 1000\n",
      "Bond Coupon Rate (% p.a.): 0\n",
      "Years to Maturity: 1\n",
      "Number of Payments per Year: 1\n"
     ]
    },
    {
     "name": "stdout",
     "output_type": "stream",
     "text": [
      "Yield to Maturity (YTM): 5.2632%\n"
     ]
    }
   ],
   "source": [
    "# First we calculate YTM\n",
    "\n",
    "Price = input('Current Bond Price:')\n",
    "while True:\n",
    "    try:\n",
    "        Price = float(Price)\n",
    "        if Price < 0:\n",
    "            Price = input('Wrong input. Current Bond Price:')\n",
    "            continue\n",
    "        break\n",
    "    except ValueError:\n",
    "        Price = input('Wrong input. Current Bond Price:')\n",
    "\n",
    "Par = input('Bond Par Value:')\n",
    "while True:\n",
    "    try:\n",
    "        Par = float(Par)\n",
    "        if Par < 0:\n",
    "            Par = input('Wrong input. Bond Par Value:')\n",
    "            continue\n",
    "        break\n",
    "    except ValueError:\n",
    "        Par = input('Wrong input. Bond Par Value:')\n",
    "\n",
    "CouponRate = input('Bond Coupon Rate (% p.a.):')\n",
    "while True:\n",
    "    try:\n",
    "        CouponRate = float(CouponRate)/100\n",
    "        break\n",
    "    except ValueError:\n",
    "        CouponRate = input('Wrong input. Bond Coupon Rate (% p.a.):')\n",
    "\n",
    "Year = input('Years to Maturity:')\n",
    "while True:\n",
    "    try:\n",
    "        Year = int(Year)\n",
    "        if Year < 0:\n",
    "            Year = input('Wrong input. Years to Maturity:')\n",
    "            continue\n",
    "        break\n",
    "    except ValueError:\n",
    "        Year = input('Wrong input. Years to Maturity:')\n",
    "\n",
    "PaymentCnt = input('Number of Payments per Year:')\n",
    "while True:\n",
    "    try:\n",
    "        PaymentCnt = int(PaymentCnt)\n",
    "        if PaymentCnt < 0:\n",
    "            PaymentCnt = input('Wrong input. Number of Payments per Year:')\n",
    "            continue\n",
    "        break\n",
    "    except ValueError:\n",
    "        PaymentCnt = input('Wrong input.Number of Payments per Year:')\n",
    "\n",
    "coupon = Par * CouponRate / PaymentCnt\n",
    "ytm = CouponRate+1e-8\n",
    "\n",
    "\n",
    "while 1:\n",
    "    pv = PV_cal(Par, coupon, PaymentCnt*Year, PaymentCnt, ytm)\n",
    "    if abs(Price - pv) <= 0.0001:\n",
    "        break\n",
    "    ytm += 0.0000001\n",
    "\n",
    "print('Yield to Maturity (YTM):', str(math.ceil(ytm * 1000000)/10000)+'%')\n",
    "ans = [\n",
    "        ['YTM', str(math.ceil(ytm * 1000000)/10000)+'%']\n",
    "        ]"
   ]
  },
  {
   "cell_type": "code",
   "execution_count": 4,
   "metadata": {},
   "outputs": [
    {
     "ename": "NameError",
     "evalue": "name 'principal' is not defined",
     "output_type": "error",
     "traceback": [
      "\u001b[0;31m---------------------------------------------------------------------------\u001b[0m",
      "\u001b[0;31mNameError\u001b[0m                                 Traceback (most recent call last)",
      "\u001b[0;32m<ipython-input-4-4e311cb8fbc5>\u001b[0m in \u001b[0;36m<module>\u001b[0;34m\u001b[0m\n\u001b[0;32m----> 1\u001b[0;31m \u001b[0mpayment_p\u001b[0m \u001b[0;34m=\u001b[0m \u001b[0;34m[\u001b[0m\u001b[0mmath\u001b[0m\u001b[0;34m.\u001b[0m\u001b[0mceil\u001b[0m\u001b[0;34m(\u001b[0m\u001b[0mprincipal\u001b[0m\u001b[0;34m/\u001b[0m\u001b[0mperiod\u001b[0m\u001b[0;34m)\u001b[0m\u001b[0;34m]\u001b[0m\u001b[0;34m\u001b[0m\u001b[0;34m\u001b[0m\u001b[0m\n\u001b[0m\u001b[1;32m      2\u001b[0m \u001b[0mtable1\u001b[0m\u001b[0;34m.\u001b[0m\u001b[0mappend\u001b[0m\u001b[0;34m(\u001b[0m\u001b[0;34m[\u001b[0m\u001b[0;34m''\u001b[0m\u001b[0;34m,\u001b[0m \u001b[0;34m'平均每月攤還本金'\u001b[0m\u001b[0;34m,\u001b[0m \u001b[0mstr\u001b[0m\u001b[0;34m(\u001b[0m\u001b[0mformat\u001b[0m\u001b[0;34m(\u001b[0m\u001b[0mpayment_p\u001b[0m\u001b[0;34m[\u001b[0m\u001b[0;36m0\u001b[0m\u001b[0;34m]\u001b[0m\u001b[0;34m,\u001b[0m \u001b[0;34m','\u001b[0m\u001b[0;34m)\u001b[0m\u001b[0;34m)\u001b[0m\u001b[0;34m+\u001b[0m\u001b[0;34m'元'\u001b[0m\u001b[0;34m]\u001b[0m\u001b[0;34m)\u001b[0m\u001b[0;34m\u001b[0m\u001b[0;34m\u001b[0m\u001b[0m\n\u001b[1;32m      3\u001b[0m \u001b[0mtable1\u001b[0m\u001b[0;34m.\u001b[0m\u001b[0mappend\u001b[0m\u001b[0;34m(\u001b[0m\u001b[0;34m[\u001b[0m\u001b[0;34m''\u001b[0m\u001b[0;34m,\u001b[0m \u001b[0;34m'平均每月攤還利息'\u001b[0m\u001b[0;34m,\u001b[0m \u001b[0;34m'請參考下表'\u001b[0m\u001b[0;34m]\u001b[0m\u001b[0;34m)\u001b[0m\u001b[0;34m\u001b[0m\u001b[0;34m\u001b[0m\u001b[0m\n\u001b[1;32m      4\u001b[0m \u001b[0;34m\u001b[0m\u001b[0m\n\u001b[1;32m      5\u001b[0m \u001b[0mpayment_i\u001b[0m \u001b[0;34m=\u001b[0m \u001b[0;34m[\u001b[0m\u001b[0;34m]\u001b[0m\u001b[0;34m\u001b[0m\u001b[0;34m\u001b[0m\u001b[0m\n",
      "\u001b[0;31mNameError\u001b[0m: name 'principal' is not defined"
     ]
    },
    {
     "name": "stderr",
     "output_type": "stream",
     "text": [
      "18:18: E231 missing whitespace after ','\n",
      "18:52: E231 missing whitespace after ','\n",
      "20:18: E231 missing whitespace after ','\n",
      "20:26: E231 missing whitespace after ','\n",
      "20:34: E231 missing whitespace after ','\n"
     ]
    }
   ],
   "source": [
    "payment_p = [math.ceil(principal/period)]\n",
    "table1.append(['', '平均每月攤還本金', str(format(payment_p[0], ','))+'元'])\n",
    "table1.append(['', '平均每月攤還利息', '請參考下表'])\n",
    "\n",
    "payment_i = []\n",
    "payment_total = []\n",
    "for t in range(period):\n",
    "    if payment_p[t] > principal-payment_p[t]:\n",
    "        payment_p.append(int(principal-payment_p[t]))\n",
    "    else:\n",
    "        payment_p.append(payment_p[0])\n",
    "    payment_i.append(round(principal * interest / 12))\n",
    "    principal -= payment_p[t]\n",
    "    if t == 0:\n",
    "        payment_total.append(payment_p[t]+payment_i[t])\n",
    "    else:\n",
    "        payment_total.append(payment_total[t-1]+payment_p[t]+payment_i[t])\n",
    "table1.append(['','全部利息', str(format(sum(payment_i),','))+'元'])\n",
    "table1.append([])\n",
    "table1.append(['','本金(元)','利息(元)','本金利息累計(元)'])"
   ]
  },
  {
   "cell_type": "code",
   "execution_count": null,
   "metadata": {},
   "outputs": [],
   "source": [
    "for t in range(period):\n",
    "    table1.append(['第'+str(t+1)+'期',format(payment_p[t],','),format(payment_i[t],','),format(payment_total[t],',')])\n",
    "import csv\n",
    "with open('本金平均攤還試算利息.csv', 'w', newline='',encoding='utf-8') as csvfile:\n",
    "    writer = csv.writer(csvfile)\n",
    "    writer.writerows(table1)\n"
   ]
  }
 ],
 "metadata": {
  "kernelspec": {
   "display_name": "Python 3",
   "language": "python",
   "name": "python3"
  },
  "language_info": {
   "codemirror_mode": {
    "name": "ipython",
    "version": 3
   },
   "file_extension": ".py",
   "mimetype": "text/x-python",
   "name": "python",
   "nbconvert_exporter": "python",
   "pygments_lexer": "ipython3",
   "version": "3.7.2"
  }
 },
 "nbformat": 4,
 "nbformat_minor": 4
}
