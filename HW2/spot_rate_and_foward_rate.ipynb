{
 "cells": [
  {
   "cell_type": "code",
   "execution_count": 18,
   "metadata": {},
   "outputs": [],
   "source": [
    "import numpy as np\n",
    "import math\n",
    "\n",
    "\n",
    "def PV_cal(F, C, n, m, r):\n",
    "    return C * (1 - (1 + r/m)**(-n*m)) / (r/m) + F / (1 + r/m)**(n*m)\n",
    "\n",
    "\n",
    "def sr_cal(P, F, C, n, m, r):\n",
    "    if C == 0:\n",
    "        sr = (P/F)**(-1/n)-1\n",
    "        return sr\n",
    "    pv = (F+C)/(1+r)**n\n",
    "    pv = pv/(F+C)\n",
    "    sr = pv**(-1/n)-1\n",
    "    sr = sr * m\n",
    "    return sr\n",
    "\n",
    "\n",
    "def fr_cal(i, j, sr):\n",
    "    if i == j:\n",
    "        return 0\n",
    "    sr_i = (1+sr[i])**(i+1)\n",
    "    sr_j = (1+sr[j])**(j+1)\n",
    "    fr = (sr_j/sr_i)**(1/(j-i))-1\n",
    "    return fr"
   ]
  },
  {
   "cell_type": "code",
   "execution_count": 19,
   "metadata": {},
   "outputs": [
    {
     "name": "stdin",
     "output_type": "stream",
     "text": [
      "Current Bond Price: 1029.1\n",
      "Bond Par Value: 1000\n",
      "Bond Coupon Rate (% p.a.): 5\n",
      "Years to Maturity: 1.5\n",
      "Number of Payments per Year: 2\n"
     ]
    },
    {
     "name": "stdout",
     "output_type": "stream",
     "text": [
      "\n",
      "Yield to Maturity (YTM): 1.5008%\n"
     ]
    }
   ],
   "source": [
    "# First we calculate YTM\n",
    "\n",
    "Price = input('Current Bond Price:')\n",
    "while True:\n",
    "    try:\n",
    "        Price = float(Price)\n",
    "        if Price < 0:\n",
    "            Price = input('Wrong input. Current Bond Price:')\n",
    "            continue\n",
    "        break\n",
    "    except ValueError:\n",
    "        Price = input('Wrong input. Current Bond Price:')\n",
    "\n",
    "Par = input('Bond Par Value:')\n",
    "while True:\n",
    "    try:\n",
    "        Par = float(Par)\n",
    "        if Par < 0:\n",
    "            Par = input('Wrong input. Bond Par Value:')\n",
    "            continue\n",
    "        break\n",
    "    except ValueError:\n",
    "        Par = input('Wrong input. Bond Par Value:')\n",
    "\n",
    "CouponRate = input('Bond Coupon Rate (% p.a.):')\n",
    "while True:\n",
    "    try:\n",
    "        CouponRate = float(CouponRate)/100\n",
    "        break\n",
    "    except ValueError:\n",
    "        CouponRate = input('Wrong input. Bond Coupon Rate (% p.a.):')\n",
    "\n",
    "Year = input('Years to Maturity:')\n",
    "while True:\n",
    "    try:\n",
    "        Year = float(Year)\n",
    "        if Year < 0:\n",
    "            Year = input('Wrong input. Years to Maturity:')\n",
    "            continue\n",
    "        break\n",
    "    except ValueError:\n",
    "        Year = input('Wrong input. Years to Maturity:')\n",
    "\n",
    "PaymentCnt = input('Number of Payments per Year:')\n",
    "while True:\n",
    "    try:\n",
    "        PaymentCnt = int(PaymentCnt)\n",
    "        if PaymentCnt < 0:\n",
    "            PaymentCnt = input('Wrong input. Number of Payments per Year:')\n",
    "            continue\n",
    "        break\n",
    "    except ValueError:\n",
    "        PaymentCnt = input('Wrong input.Number of Payments per Year:')\n",
    "\n",
    "Coupon = Par * CouponRate / PaymentCnt\n",
    "ytm = CouponRate\n",
    "period = int(Year*PaymentCnt)\n",
    "if ytm == 0.0:\n",
    "    ytm += 1e-8\n",
    "\n",
    "while 1:\n",
    "    pv = PV_cal(Par, Coupon, Year, PaymentCnt, ytm)\n",
    "    if abs(Price - pv) <= 0.001:\n",
    "        break\n",
    "    if Price < pv:\n",
    "        ytm += 0.0000001\n",
    "    else:\n",
    "        ytm -= 0.0000001\n",
    "\n",
    "ytm = ytm / PaymentCnt\n",
    "print('\\nYield to Maturity (YTM):', str(round(ytm*100, 4))+'%')\n",
    "ans = [['Input'], ['Presen Value', Price]]\n",
    "ans.append(['Par Value', Par])\n",
    "ans.append(['Years to Maturity', Year])\n",
    "ans.append(['Number of Payments per Year', PaymentCnt])\n",
    "ans.append([])\n",
    "ans.append(['YTM', str(round(ytm*100, 4))+'%'])\n",
    "ans.append([])"
   ]
  },
  {
   "cell_type": "code",
   "execution_count": 20,
   "metadata": {},
   "outputs": [
    {
     "name": "stdout",
     "output_type": "stream",
     "text": [
      "Spot Rate: 3.0015%\n"
     ]
    }
   ],
   "source": [
    "# Second, we calculate spot rate\n",
    "spot_rate = sr_cal(Price, Par, Coupon, period, PaymentCnt, ytm)\n",
    "print('Spot Rate:', str(round(spot_rate*100, 4))+'%')"
   ]
  },
  {
   "cell_type": "code",
   "execution_count": 21,
   "metadata": {},
   "outputs": [
    {
     "name": "stdin",
     "output_type": "stream",
     "text": [
      "Spot rate for 0.5 year zero-coupon bond (% p.a.): 1\n",
      "Spot rate for 1.0 year zero-coupon bond (% p.a.): 2\n"
     ]
    }
   ],
   "source": [
    "# Third, we calculate foward rate\n",
    "sr_list = []\n",
    "for i in range(period-1):\n",
    "    try:\n",
    "        sr_list.append(float(input('Spot rate for ' +\n",
    "                                   str((i+1)/PaymentCnt) +\n",
    "                                   ' year zero-coupon bond (% p.a.):'))/100)\n",
    "        continue\n",
    "    except ValueError:\n",
    "        sr_list.append(float(input('Wrong input. Spot rate for ' +\n",
    "                                   str((i+1)/PaymentCnt) +\n",
    "                                   ' year zero-coupon bond (% p.a.):'))/100)\n",
    "\n",
    "sr_list.append(spot_rate)\n",
    "\n",
    "fr = np.zeros((period, period))\n",
    "for i in range(period):\n",
    "    for j in range(i, period):\n",
    "        fr[i, j] = fr_cal(i, j, sr_list)\n",
    "\n",
    "ans.append(['Spot Rate Table'])\n",
    "ans.append(['Period'] + [(i+1)/PaymentCnt for i in range(period)])\n",
    "ans.append(['Spot Rate'] + [str(round(i*100, 4))+'%' for i in sr_list])\n",
    "ans.append([])\n",
    "ans.append(['Foward Rate Table'])\n",
    "ans.append(['From\\\\To'] + [(i+1)/PaymentCnt for i in range(period)])\n",
    "\n",
    "for i in range(len(fr)):\n",
    "    tmp = [(i+1)/PaymentCnt]\n",
    "    for j in fr[i, :]:\n",
    "        if j == 0:\n",
    "            tmp.append('X')\n",
    "        else:\n",
    "            tmp.append(str(round(j*100, 4))+'%')\n",
    "    ans.append(tmp)"
   ]
  },
  {
   "cell_type": "code",
   "execution_count": 22,
   "metadata": {},
   "outputs": [],
   "source": [
    "import csv\n",
    "with open('foward_rate.csv', 'w', newline='', encoding='utf-8') as csvfile:\n",
    "    writer = csv.writer(csvfile)\n",
    "    writer.writerows(ans)"
   ]
  }
 ],
 "metadata": {
  "kernelspec": {
   "display_name": "Python 3",
   "language": "python",
   "name": "python3"
  },
  "language_info": {
   "codemirror_mode": {
    "name": "ipython",
    "version": 3
   },
   "file_extension": ".py",
   "mimetype": "text/x-python",
   "name": "python",
   "nbconvert_exporter": "python",
   "pygments_lexer": "ipython3",
   "version": "3.7.2"
  }
 },
 "nbformat": 4,
 "nbformat_minor": 4
}
