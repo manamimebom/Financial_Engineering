{
 "cells": [
  {
   "cell_type": "code",
   "execution_count": 24,
   "metadata": {},
   "outputs": [],
   "source": [
    "%load_ext pycodestyle_magic\n",
    "\n",
    "%pycodestyle_on or %flake8_on"
   ]
  },
  {
   "cell_type": "code",
   "execution_count": 25,
   "metadata": {},
   "outputs": [],
   "source": [
    "import numpy as np\n",
    "import math\n",
    "\n",
    "\n",
    "def PV_cal(F, C, n, m, r):\n",
    "    return (C*(1-((1+r/m)**(-n)))/(r/m)+F/((1+r/m)**(n)))"
   ]
  },
  {
   "cell_type": "code",
   "execution_count": 27,
   "metadata": {},
   "outputs": [
    {
     "name": "stdin",
     "output_type": "stream",
     "text": [
      "Current Bond Price: 950\n",
      "Bond Par Value: 1000\n",
      "Bond Coupon Rate (% p.a.): 0\n",
      "Years to Maturity: 1\n",
      "Number of Payments per Year: 1\n"
     ]
    }
   ],
   "source": [
    "# First we calculate YTM\n",
    "\n",
    "Price = input('Current Bond Price:')\n",
    "while True:\n",
    "    try:\n",
    "        Price = float(Price)\n",
    "        if Price < 0:\n",
    "            Price = input('Wrong input. Current Bond Price:')\n",
    "            continue\n",
    "        break\n",
    "    except ValueError:\n",
    "        Price = input('Wrong input. Current Bond Price:')\n",
    "\n",
    "Par = input('Bond Par Value:')\n",
    "while True:\n",
    "    try:\n",
    "        Par = float(Par)\n",
    "        if Par < 0:\n",
    "            Par = input('Wrong input. Bond Par Value:')\n",
    "            continue\n",
    "        break\n",
    "    except ValueError:\n",
    "        Par = input('Wrong input. Bond Par Value:')\n",
    "\n",
    "CouponRate = input('Bond Coupon Rate (% p.a.):')\n",
    "while True:\n",
    "    try:\n",
    "        CouponRate = float(CouponRate)/100\n",
    "        break\n",
    "    except ValueError:\n",
    "        CouponRate = input('Wrong input. Bond Coupon Rate (% p.a.):')\n",
    "\n",
    "Year = input('Years to Maturity:')\n",
    "while True:\n",
    "    try:\n",
    "        Year = int(Year)\n",
    "        if Year < 0:\n",
    "            Year = input('Wrong input. Years to Maturity:')\n",
    "            continue\n",
    "        break\n",
    "    except ValueError:\n",
    "        Year = input('Wrong input. Years to Maturity:')\n",
    "\n",
    "PaymentCnt = input('Number of Payments per Year:')\n",
    "while True:\n",
    "    try:\n",
    "        PaymentCnt = int(PaymentCnt)\n",
    "        if PaymentCnt < 0:\n",
    "            PaymentCnt = input('Wrong input. Number of Payments per Year:')\n",
    "            continue\n",
    "        break\n",
    "    except ValueError:\n",
    "        PaymentCnt = input('Wrong input.Number of Payments per Year:')\n",
    "\n",
    "coupon = Par * CouponRate / PaymentCnt\n",
    "ytm = CouponRate+0.000001\n",
    "\n",
    "while 1:\n",
    "    pv = PV_cal(Par, coupon, PaymentCnt*Year, PaymentCnt, ytm)\n",
    "    print(pv)\n",
    "    if abs(Price - pv) <= 0.001:\n",
    "        break\n",
    "    ytm += 0.000001\n",
    "\n",
    "print('Yield to Maturity (YTM):')#, str(round(ytm * 100, 4))+'%')\n",
    "\n",
    "ans = [\n",
    "        ['YTM', str(round(ytm * 100, 4))+'%']\n",
    "        ]"
   ]
  },
  {
   "cell_type": "code",
   "execution_count": 4,
   "metadata": {},
   "outputs": [
    {
     "name": "stderr",
     "output_type": "stream",
     "text": [
      "2:18: E231 missing whitespace after ','\n",
      "2:54: E231 missing whitespace after ','\n",
      "3:18: E231 missing whitespace after ','\n",
      "10:10: W291 trailing whitespace\n",
      "18:18: E231 missing whitespace after ','\n",
      "18:52: E231 missing whitespace after ','\n",
      "20:18: E231 missing whitespace after ','\n",
      "20:26: E231 missing whitespace after ','\n",
      "20:34: E231 missing whitespace after ','\n"
     ]
    }
   ],
   "source": [
    "payment_p = [math.ceil(principal/period)]\n",
    "table1.append(['', '平均每月攤還本金', str(format(payment_p[0], ','))+'元'])\n",
    "table1.append(['', '平均每月攤還利息', '請參考下表'])\n",
    "\n",
    "payment_i = []\n",
    "payment_total = []\n",
    "for t in range(period):\n",
    "    if payment_p[t] > principal-payment_p[t]:\n",
    "        payment_p.append(int(principal-payment_p[t]))\n",
    "    else:\n",
    "        payment_p.append(payment_p[0])\n",
    "    payment_i.append(round(principal * interest / 12))\n",
    "    principal -= payment_p[t]\n",
    "    if t == 0:\n",
    "        payment_total.append(payment_p[t]+payment_i[t])\n",
    "    else:\n",
    "        payment_total.append(payment_total[t-1]+payment_p[t]+payment_i[t])\n",
    "table1.append(['','全部利息', str(format(sum(payment_i),','))+'元'])\n",
    "table1.append([])\n",
    "table1.append(['','本金(元)','利息(元)','本金利息累計(元)'])"
   ]
  },
  {
   "cell_type": "code",
   "execution_count": 5,
   "metadata": {},
   "outputs": [
    {
     "name": "stderr",
     "output_type": "stream",
     "text": [
      "2:36: E231 missing whitespace after ','\n",
      "2:56: E231 missing whitespace after ','\n",
      "2:61: E231 missing whitespace after ','\n",
      "2:80: E501 line too long (116 > 79 characters)\n",
      "2:81: E231 missing whitespace after ','\n",
      "2:86: E231 missing whitespace after ','\n",
      "2:110: E231 missing whitespace after ','\n",
      "3:1: E402 module level import not at top of file\n",
      "4:44: E231 missing whitespace after ','\n",
      "7:1: W391 blank line at end of file\n"
     ]
    }
   ],
   "source": [
    "for t in range(period):\n",
    "    table1.append(['第'+str(t+1)+'期',format(payment_p[t],','),format(payment_i[t],','),format(payment_total[t],',')])\n",
    "import csv\n",
    "with open('本金平均攤還試算利息.csv', 'w', newline='',encoding='utf-8') as csvfile:\n",
    "    writer = csv.writer(csvfile)\n",
    "    writer.writerows(table1)\n"
   ]
  }
 ],
 "metadata": {
  "kernelspec": {
   "display_name": "Python 3",
   "language": "python",
   "name": "python3"
  },
  "language_info": {
   "codemirror_mode": {
    "name": "ipython",
    "version": 3
   },
   "file_extension": ".py",
   "mimetype": "text/x-python",
   "name": "python",
   "nbconvert_exporter": "python",
   "pygments_lexer": "ipython3",
   "version": "3.7.2"
  }
 },
 "nbformat": 4,
 "nbformat_minor": 4
}
