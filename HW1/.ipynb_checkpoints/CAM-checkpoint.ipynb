{
 "cells": [
  {
   "cell_type": "code",
   "execution_count": 3,
   "metadata": {},
   "outputs": [],
   "source": [
    "import numpy as np\n",
    "import math"
   ]
  },
  {
   "cell_type": "code",
   "execution_count": 4,
   "metadata": {},
   "outputs": [
    {
     "name": "stdin",
     "output_type": "stream",
     "text": [
      "請輸入本金（萬元）: 1\n",
      "請輸入期數（年）: 1\n",
      "請輸入年利率 (%): 1\n"
     ]
    }
   ],
   "source": [
    "principal = input('請輸入本金（萬元）:')\n",
    "while True:\n",
    "    try:\n",
    "        principal = float(principal)*10000\n",
    "        if principal < 0:\n",
    "            principal = input('請輸入正確的本金金額數目：')\n",
    "            continue\n",
    "        break\n",
    "    except ValueError:\n",
    "        principal = input('請輸入正確的本金金額數目：')\n",
    "period = input('請輸入期數（年）:')#整數\n",
    "while True:\n",
    "    try:\n",
    "        period = int(period) * 12\n",
    "        if period < 0:\n",
    "            period = input('請輸入正確且為整數的期數（年）數目：')\n",
    "            continue\n",
    "        break\n",
    "    except ValueError:\n",
    "        period = input('請輸入正確且為整數的期數（年）數目：')\n",
    "interest = input('請輸入年利率 (%):')\n",
    "while True:\n",
    "    try:\n",
    "        interest = float(interest)/100\n",
    "        if interest < 0:\n",
    "            interest = input('請輸入正確的利率 (%)：')\n",
    "            continue\n",
    "        break\n",
    "    except ValueError:\n",
    "        interest = input('請輸入正確的利率 (%)：')\n",
    "table1 = [[],['','本金',str(format(int(principal),','))+'元'],['','期數(年)',str(period//12)], ['','年利率', str(format(int(interest*100),','))+'%']]"
   ]
  },
  {
   "cell_type": "code",
   "execution_count": 5,
   "metadata": {},
   "outputs": [],
   "source": [
    "payment_p = [math.ceil(principal/period)]\n",
    "table1.append(['','平均每月攤還本金', str(format(payment_p[0],','))+'元'])\n",
    "table1.append(['','平均每月攤還利息', '請參考下表'])\n",
    "\n",
    "payment_i = []\n",
    "payment_total = []\n",
    "for t in range(period):\n",
    "    if payment_p[t] > principal-payment_p[t]:\n",
    "        payment_p.append(int(principal-payment_p[t]))\n",
    "    else: \n",
    "        payment_p.append(payment_p[0])\n",
    "    payment_i.append(round(principal * interest / 12))\n",
    "    principal -= payment_p[t]\n",
    "    if t == 0:\n",
    "        payment_total.append(payment_p[t]+payment_i[t])\n",
    "    else:\n",
    "        payment_total.append(payment_total[t-1]+payment_p[t]+payment_i[t])\n",
    "table1.append(['','全部利息', str(format(sum(payment_i),','))+'元'])\n",
    "table1.append([])\n",
    "table1.append(['','本金(元)','利息(元)','本金利息累計(元)'])"
   ]
  },
  {
   "cell_type": "code",
   "execution_count": 6,
   "metadata": {},
   "outputs": [],
   "source": [
    "for t in range(period):\n",
    "    table1.append(['第'+str(t+1)+'期',format(payment_p[t],','),format(payment_i[t],','),format(payment_total[t],',')])\n",
    "import csv\n",
    "with open('本金平均攤還試算利息.csv', 'w', newline='',encoding='utf-8') as csvfile:\n",
    "    writer = csv.writer(csvfile)\n",
    "    writer.writerows(table1)\n"
   ]
  }
 ],
 "metadata": {
  "kernelspec": {
   "display_name": "Python 3",
   "language": "python",
   "name": "python3"
  },
  "language_info": {
   "codemirror_mode": {
    "name": "ipython",
    "version": 3
   },
   "file_extension": ".py",
   "mimetype": "text/x-python",
   "name": "python",
   "nbconvert_exporter": "python",
   "pygments_lexer": "ipython3",
   "version": "3.7.2"
  }
 },
 "nbformat": 4,
 "nbformat_minor": 4
}
